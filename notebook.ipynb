{
 "cells": [
  {
   "cell_type": "code",
   "execution_count": 1,
   "metadata": {},
   "outputs": [
    {
     "name": "stdout",
     "output_type": "stream",
     "text": [
      "[('master',), ('tempdb',), ('model',), ('msdb',)]\n"
     ]
    }
   ],
   "source": [
    "import pyodbc \n",
    "\n",
    "cnxn = pyodbc.connect(\"DRIVER={ODBC Driver 18 for SQL Server};SERVER=localhost;DATABASE=master;ENCRYPT=yes;UID=sa;PWD=TeSt1234;TrustServerCertificate=yes;\")\n",
    "cursor = cnxn.cursor()\n",
    "\n",
    "cursor.execute(\"SELECT name FROM sys.databases\")\n",
    "result = cursor.fetchall()\n",
    "print(result)"
   ]
  }
 ],
 "metadata": {
  "kernelspec": {
   "display_name": "Python 3",
   "language": "python",
   "name": "python3"
  },
  "language_info": {
   "codemirror_mode": {
    "name": "ipython",
    "version": 3
   },
   "file_extension": ".py",
   "mimetype": "text/x-python",
   "name": "python",
   "nbconvert_exporter": "python",
   "pygments_lexer": "ipython3",
   "version": "3.11.1"
  },
  "orig_nbformat": 4
 },
 "nbformat": 4,
 "nbformat_minor": 2
}
